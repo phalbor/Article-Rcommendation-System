{
  "nbformat": 4,
  "nbformat_minor": 0,
  "metadata": {
    "colab": {
      "provenance": [],
      "collapsed_sections": []
    },
    "kernelspec": {
      "name": "python3",
      "display_name": "Python 3"
    },
    "language_info": {
      "name": "python"
    }
  },
  "cells": [
    {
      "cell_type": "code",
      "execution_count": null,
      "metadata": {
        "id": "YOU_Z4T1cR_-",
        "colab": {
          "base_uri": "https://localhost:8080/"
        },
        "outputId": "445cb5b3-67b3-4b19-d7d8-18c6282dd407"
      },
      "outputs": [
        {
          "output_type": "stream",
          "name": "stdout",
          "text": [
            "Drive already mounted at /content/drive; to attempt to forcibly remount, call drive.mount(\"/content/drive\", force_remount=True).\n"
          ]
        }
      ],
      "source": [
        "from google.colab import drive\n",
        "drive.mount('/content/drive')"
      ]
    },
    {
      "cell_type": "code",
      "source": [
        "import pandas as pd\n",
        "from IPython.display import display\n",
        "from sklearn.feature_extraction.text import TfidfVectorizer\n",
        "from sklearn.metrics.pairwise import cosine_similarity"
      ],
      "metadata": {
        "id": "wcgCY_myL7ij"
      },
      "execution_count": null,
      "outputs": []
    },
    {
      "cell_type": "code",
      "source": [
        "path='/content/drive/MyDrive/2013641_miniproject(data anaytics- article recommendation system)/shared_articles.csv'"
      ],
      "metadata": {
        "id": "iPzIQe4sMH23"
      },
      "execution_count": null,
      "outputs": []
    },
    {
      "cell_type": "code",
      "source": [
        "#Retrieving the data from.CSV\n",
        "articles_df = pd.read_csv(path)\n",
        "articles_df.describe()"
      ],
      "metadata": {
        "colab": {
          "base_uri": "https://localhost:8080/",
          "height": 300
        },
        "id": "pc5PJ6pmMpCH",
        "outputId": "56bb5551-fca1-4927-8f52-57f0309d31eb"
      },
      "execution_count": null,
      "outputs": [
        {
          "output_type": "execute_result",
          "data": {
            "text/html": [
              "\n",
              "  <div id=\"df-b8a07375-563b-4b7d-8fca-e79d8481b900\">\n",
              "    <div class=\"colab-df-container\">\n",
              "      <div>\n",
              "<style scoped>\n",
              "    .dataframe tbody tr th:only-of-type {\n",
              "        vertical-align: middle;\n",
              "    }\n",
              "\n",
              "    .dataframe tbody tr th {\n",
              "        vertical-align: top;\n",
              "    }\n",
              "\n",
              "    .dataframe thead th {\n",
              "        text-align: right;\n",
              "    }\n",
              "</style>\n",
              "<table border=\"1\" class=\"dataframe\">\n",
              "  <thead>\n",
              "    <tr style=\"text-align: right;\">\n",
              "      <th></th>\n",
              "      <th>timestamp</th>\n",
              "      <th>contentId</th>\n",
              "      <th>authorPersonId</th>\n",
              "      <th>authorSessionId</th>\n",
              "    </tr>\n",
              "  </thead>\n",
              "  <tbody>\n",
              "    <tr>\n",
              "      <th>count</th>\n",
              "      <td>3.122000e+03</td>\n",
              "      <td>3.122000e+03</td>\n",
              "      <td>3.122000e+03</td>\n",
              "      <td>3.122000e+03</td>\n",
              "    </tr>\n",
              "    <tr>\n",
              "      <th>mean</th>\n",
              "      <td>1.468804e+09</td>\n",
              "      <td>3.284110e+16</td>\n",
              "      <td>3.984819e+17</td>\n",
              "      <td>1.976675e+17</td>\n",
              "    </tr>\n",
              "    <tr>\n",
              "      <th>std</th>\n",
              "      <td>7.571512e+06</td>\n",
              "      <td>5.383734e+18</td>\n",
              "      <td>4.387115e+18</td>\n",
              "      <td>5.403753e+18</td>\n",
              "    </tr>\n",
              "    <tr>\n",
              "      <th>min</th>\n",
              "      <td>1.459193e+09</td>\n",
              "      <td>-9.222795e+18</td>\n",
              "      <td>-9.120686e+18</td>\n",
              "      <td>-9.212055e+18</td>\n",
              "    </tr>\n",
              "    <tr>\n",
              "      <th>25%</th>\n",
              "      <td>1.462369e+09</td>\n",
              "      <td>-4.660869e+18</td>\n",
              "      <td>-1.578288e+18</td>\n",
              "      <td>-4.651280e+18</td>\n",
              "    </tr>\n",
              "    <tr>\n",
              "      <th>50%</th>\n",
              "      <td>1.467136e+09</td>\n",
              "      <td>4.436584e+16</td>\n",
              "      <td>-7.092877e+17</td>\n",
              "      <td>4.154103e+17</td>\n",
              "    </tr>\n",
              "    <tr>\n",
              "      <th>75%</th>\n",
              "      <td>1.473873e+09</td>\n",
              "      <td>4.745617e+18</td>\n",
              "      <td>3.609194e+18</td>\n",
              "      <td>4.841644e+18</td>\n",
              "    </tr>\n",
              "    <tr>\n",
              "      <th>max</th>\n",
              "      <td>1.488308e+09</td>\n",
              "      <td>9.222265e+18</td>\n",
              "      <td>9.210531e+18</td>\n",
              "      <td>9.221043e+18</td>\n",
              "    </tr>\n",
              "  </tbody>\n",
              "</table>\n",
              "</div>\n",
              "      <button class=\"colab-df-convert\" onclick=\"convertToInteractive('df-b8a07375-563b-4b7d-8fca-e79d8481b900')\"\n",
              "              title=\"Convert this dataframe to an interactive table.\"\n",
              "              style=\"display:none;\">\n",
              "        \n",
              "  <svg xmlns=\"http://www.w3.org/2000/svg\" height=\"24px\"viewBox=\"0 0 24 24\"\n",
              "       width=\"24px\">\n",
              "    <path d=\"M0 0h24v24H0V0z\" fill=\"none\"/>\n",
              "    <path d=\"M18.56 5.44l.94 2.06.94-2.06 2.06-.94-2.06-.94-.94-2.06-.94 2.06-2.06.94zm-11 1L8.5 8.5l.94-2.06 2.06-.94-2.06-.94L8.5 2.5l-.94 2.06-2.06.94zm10 10l.94 2.06.94-2.06 2.06-.94-2.06-.94-.94-2.06-.94 2.06-2.06.94z\"/><path d=\"M17.41 7.96l-1.37-1.37c-.4-.4-.92-.59-1.43-.59-.52 0-1.04.2-1.43.59L10.3 9.45l-7.72 7.72c-.78.78-.78 2.05 0 2.83L4 21.41c.39.39.9.59 1.41.59.51 0 1.02-.2 1.41-.59l7.78-7.78 2.81-2.81c.8-.78.8-2.07 0-2.86zM5.41 20L4 18.59l7.72-7.72 1.47 1.35L5.41 20z\"/>\n",
              "  </svg>\n",
              "      </button>\n",
              "      \n",
              "  <style>\n",
              "    .colab-df-container {\n",
              "      display:flex;\n",
              "      flex-wrap:wrap;\n",
              "      gap: 12px;\n",
              "    }\n",
              "\n",
              "    .colab-df-convert {\n",
              "      background-color: #E8F0FE;\n",
              "      border: none;\n",
              "      border-radius: 50%;\n",
              "      cursor: pointer;\n",
              "      display: none;\n",
              "      fill: #1967D2;\n",
              "      height: 32px;\n",
              "      padding: 0 0 0 0;\n",
              "      width: 32px;\n",
              "    }\n",
              "\n",
              "    .colab-df-convert:hover {\n",
              "      background-color: #E2EBFA;\n",
              "      box-shadow: 0px 1px 2px rgba(60, 64, 67, 0.3), 0px 1px 3px 1px rgba(60, 64, 67, 0.15);\n",
              "      fill: #174EA6;\n",
              "    }\n",
              "\n",
              "    [theme=dark] .colab-df-convert {\n",
              "      background-color: #3B4455;\n",
              "      fill: #D2E3FC;\n",
              "    }\n",
              "\n",
              "    [theme=dark] .colab-df-convert:hover {\n",
              "      background-color: #434B5C;\n",
              "      box-shadow: 0px 1px 3px 1px rgba(0, 0, 0, 0.15);\n",
              "      filter: drop-shadow(0px 1px 2px rgba(0, 0, 0, 0.3));\n",
              "      fill: #FFFFFF;\n",
              "    }\n",
              "  </style>\n",
              "\n",
              "      <script>\n",
              "        const buttonEl =\n",
              "          document.querySelector('#df-b8a07375-563b-4b7d-8fca-e79d8481b900 button.colab-df-convert');\n",
              "        buttonEl.style.display =\n",
              "          google.colab.kernel.accessAllowed ? 'block' : 'none';\n",
              "\n",
              "        async function convertToInteractive(key) {\n",
              "          const element = document.querySelector('#df-b8a07375-563b-4b7d-8fca-e79d8481b900');\n",
              "          const dataTable =\n",
              "            await google.colab.kernel.invokeFunction('convertToInteractive',\n",
              "                                                     [key], {});\n",
              "          if (!dataTable) return;\n",
              "\n",
              "          const docLinkHtml = 'Like what you see? Visit the ' +\n",
              "            '<a target=\"_blank\" href=https://colab.research.google.com/notebooks/data_table.ipynb>data table notebook</a>'\n",
              "            + ' to learn more about interactive tables.';\n",
              "          element.innerHTML = '';\n",
              "          dataTable['output_type'] = 'display_data';\n",
              "          await google.colab.output.renderOutput(dataTable, element);\n",
              "          const docLink = document.createElement('div');\n",
              "          docLink.innerHTML = docLinkHtml;\n",
              "          element.appendChild(docLink);\n",
              "        }\n",
              "      </script>\n",
              "    </div>\n",
              "  </div>\n",
              "  "
            ],
            "text/plain": [
              "          timestamp     contentId  authorPersonId  authorSessionId\n",
              "count  3.122000e+03  3.122000e+03    3.122000e+03     3.122000e+03\n",
              "mean   1.468804e+09  3.284110e+16    3.984819e+17     1.976675e+17\n",
              "std    7.571512e+06  5.383734e+18    4.387115e+18     5.403753e+18\n",
              "min    1.459193e+09 -9.222795e+18   -9.120686e+18    -9.212055e+18\n",
              "25%    1.462369e+09 -4.660869e+18   -1.578288e+18    -4.651280e+18\n",
              "50%    1.467136e+09  4.436584e+16   -7.092877e+17     4.154103e+17\n",
              "75%    1.473873e+09  4.745617e+18    3.609194e+18     4.841644e+18\n",
              "max    1.488308e+09  9.222265e+18    9.210531e+18     9.221043e+18"
            ]
          },
          "metadata": {},
          "execution_count": 92
        }
      ]
    },
    {
      "cell_type": "code",
      "source": [
        "print(articles_df.shape) # NUmber of columns and rows"
      ],
      "metadata": {
        "colab": {
          "base_uri": "https://localhost:8080/"
        },
        "id": "j-umyd5EM2qi",
        "outputId": "62f64bdf-9b52-4e6d-eed9-fb4c1320ba84"
      },
      "execution_count": null,
      "outputs": [
        {
          "output_type": "stream",
          "name": "stdout",
          "text": [
            "(3122, 13)\n"
          ]
        }
      ]
    },
    {
      "cell_type": "code",
      "source": [
        "print(articles_df['timestamp'].head(5)) # timestamp is time when an event occurred"
      ],
      "metadata": {
        "colab": {
          "base_uri": "https://localhost:8080/"
        },
        "id": "iaX1oKfsN6cF",
        "outputId": "8bc41fdc-c566-41d4-d420-c6d4b3ccf3f1"
      },
      "execution_count": null,
      "outputs": [
        {
          "output_type": "stream",
          "name": "stdout",
          "text": [
            "0    1459192779\n",
            "1    1459193988\n",
            "2    1459194146\n",
            "3    1459194474\n",
            "4    1459194497\n",
            "Name: timestamp, dtype: int64\n"
          ]
        }
      ]
    },
    {
      "cell_type": "code",
      "source": [
        "print(articles_df['eventType'].value_counts()) # Atricle shared or removed at given timestamp"
      ],
      "metadata": {
        "colab": {
          "base_uri": "https://localhost:8080/"
        },
        "id": "5RaZ9KbNULjx",
        "outputId": "926cb830-2c9f-4ec3-dba4-2d0893364c60"
      },
      "execution_count": null,
      "outputs": [
        {
          "output_type": "stream",
          "name": "stdout",
          "text": [
            "CONTENT SHARED     3047\n",
            "CONTENT REMOVED      75\n",
            "Name: eventType, dtype: int64\n"
          ]
        }
      ]
    },
    {
      "cell_type": "code",
      "source": [
        "# Filtering and storing articles which is shared \n",
        "articles_df = articles_df[articles_df['eventType'] == 'CONTENT SHARED']\n",
        "print(articles_df.shape)"
      ],
      "metadata": {
        "colab": {
          "base_uri": "https://localhost:8080/"
        },
        "id": "SkGZbOsoUQLJ",
        "outputId": "2eb3e220-52b1-46fc-b227-e98a78289dd2"
      },
      "execution_count": null,
      "outputs": [
        {
          "output_type": "stream",
          "name": "stdout",
          "text": [
            "(3047, 13)\n"
          ]
        }
      ]
    },
    {
      "cell_type": "code",
      "source": [
        "print(articles_df['contentId'].head(5)) # Article ID in numeric format"
      ],
      "metadata": {
        "colab": {
          "base_uri": "https://localhost:8080/"
        },
        "id": "pqdGbneMUT8z",
        "outputId": "c4073412-0695-46fe-9d60-aac8427ed7ca"
      },
      "execution_count": null,
      "outputs": [
        {
          "output_type": "stream",
          "name": "stdout",
          "text": [
            "1   -4110354420726924665\n",
            "2   -7292285110016212249\n",
            "3   -6151852268067518688\n",
            "4    2448026894306402386\n",
            "5   -2826566343807132236\n",
            "Name: contentId, dtype: int64\n"
          ]
        }
      ]
    },
    {
      "cell_type": "code",
      "source": [
        "print(articles_df['authorPersonId'].head(5)) # Author Id."
      ],
      "metadata": {
        "colab": {
          "base_uri": "https://localhost:8080/"
        },
        "id": "zACpc7anUX_Y",
        "outputId": "8f5243af-9185-4afd-f891-1d5aa0b75f89"
      },
      "execution_count": null,
      "outputs": [
        {
          "output_type": "stream",
          "name": "stdout",
          "text": [
            "1    4340306774493623681\n",
            "2    4340306774493623681\n",
            "3    3891637997717104548\n",
            "4    4340306774493623681\n",
            "5    4340306774493623681\n",
            "Name: authorPersonId, dtype: int64\n"
          ]
        }
      ]
    },
    {
      "cell_type": "code",
      "source": [
        "#Retrieve unique values\n",
        "print(len(articles_df['authorPersonId'].unique()))"
      ],
      "metadata": {
        "colab": {
          "base_uri": "https://localhost:8080/"
        },
        "id": "waZCfzQFUne3",
        "outputId": "3bad470e-9b1a-4f5d-b963-de21a46ab02d"
      },
      "execution_count": null,
      "outputs": [
        {
          "output_type": "stream",
          "name": "stdout",
          "text": [
            "252\n"
          ]
        }
      ]
    },
    {
      "cell_type": "code",
      "source": [
        "# Session ID of the author. The author might have created the articles in different sessions\n",
        "print(articles_df['authorSessionId'].head(5))"
      ],
      "metadata": {
        "colab": {
          "base_uri": "https://localhost:8080/"
        },
        "id": "z2jKOTXlVz9N",
        "outputId": "77dfd594-bab1-4abd-9251-64cd0e755625"
      },
      "execution_count": null,
      "outputs": [
        {
          "output_type": "stream",
          "name": "stdout",
          "text": [
            "1    8940341205206233829\n",
            "2    8940341205206233829\n",
            "3   -1457532940883382585\n",
            "4    8940341205206233829\n",
            "5    8940341205206233829\n",
            "Name: authorSessionId, dtype: int64\n"
          ]
        }
      ]
    },
    {
      "cell_type": "code",
      "source": [
        "# The browser author used.\n",
        "print(articles_df['authorUserAgent'].tail(5))"
      ],
      "metadata": {
        "colab": {
          "base_uri": "https://localhost:8080/"
        },
        "id": "yPhv1Uy4V4H2",
        "outputId": "73eecbb9-4163-4572-8332-6370e8adba14"
      },
      "execution_count": null,
      "outputs": [
        {
          "output_type": "stream",
          "name": "stdout",
          "text": [
            "3117    Mozilla/5.0 (Windows NT 10.0; WOW64) AppleWebK...\n",
            "3118    Mozilla/5.0 (Macintosh; Intel Mac OS X 10_12_3...\n",
            "3119    Mozilla/5.0 (Macintosh; Intel Mac OS X 10_12_0...\n",
            "3120    Mozilla/5.0 (X11; Linux x86_64) AppleWebKit/53...\n",
            "3121    Mozilla/5.0 (X11; Linux x86_64) AppleWebKit/53...\n",
            "Name: authorUserAgent, dtype: object\n"
          ]
        }
      ]
    },
    {
      "cell_type": "code",
      "source": [
        "#Retrieve unique browsers\n",
        "print(len(articles_df['authorUserAgent'].unique()))"
      ],
      "metadata": {
        "colab": {
          "base_uri": "https://localhost:8080/"
        },
        "id": "Pgua0RMuV7Ve",
        "outputId": "1aa6c118-d4a7-471e-9e25-82ea1de00c20"
      },
      "execution_count": null,
      "outputs": [
        {
          "output_type": "stream",
          "name": "stdout",
          "text": [
            "115\n"
          ]
        }
      ]
    },
    {
      "cell_type": "code",
      "source": [
        "# states/regions of the author.\n",
        "print(articles_df['authorRegion'].tail(5))\n",
        "print(len(articles_df['authorRegion'].unique()))\n",
        "print(articles_df['authorRegion'].isnull().sum(axis=0))"
      ],
      "metadata": {
        "colab": {
          "base_uri": "https://localhost:8080/"
        },
        "id": "db6qpl7HV-vZ",
        "outputId": "80a800b8-ed52-4d75-e43a-3652ad798ae7"
      },
      "execution_count": null,
      "outputs": [
        {
          "output_type": "stream",
          "name": "stdout",
          "text": [
            "3117    SP\n",
            "3118    GA\n",
            "3119    SP\n",
            "3120    MG\n",
            "3121    SP\n",
            "Name: authorRegion, dtype: object\n",
            "20\n",
            "2378\n"
          ]
        }
      ]
    },
    {
      "cell_type": "code",
      "source": [
        "#  Country of the author of the articles.\n",
        "print(articles_df['authorCountry'].tail(5))\n",
        "print(articles_df['authorCountry'].unique())\n",
        "print(articles_df['authorCountry'].isnull().sum(axis=0))"
      ],
      "metadata": {
        "colab": {
          "base_uri": "https://localhost:8080/"
        },
        "id": "atdNdf5EWWZi",
        "outputId": "3c575c40-bbb1-4fd7-e5ad-21dd2c82abb7"
      },
      "execution_count": null,
      "outputs": [
        {
          "output_type": "stream",
          "name": "stdout",
          "text": [
            "3117    BR\n",
            "3118    US\n",
            "3119    BR\n",
            "3120    BR\n",
            "3121    BR\n",
            "Name: authorCountry, dtype: object\n",
            "[nan 'BR' 'CA' 'US' 'AU' 'PT']\n",
            "2378\n"
          ]
        }
      ]
    },
    {
      "cell_type": "code",
      "source": [
        "# The formats articles are shared.\n",
        "print(articles_df['contentType'].unique())\n",
        "print(articles_df['contentType'].isnull().sum(axis=0))"
      ],
      "metadata": {
        "colab": {
          "base_uri": "https://localhost:8080/"
        },
        "id": "u8yHdW3WWbHd",
        "outputId": "1886973c-8cf9-432f-ea9e-6a57dbdd8c57"
      },
      "execution_count": null,
      "outputs": [
        {
          "output_type": "stream",
          "name": "stdout",
          "text": [
            "['HTML' 'RICH' 'VIDEO']\n",
            "0\n"
          ]
        }
      ]
    },
    {
      "cell_type": "code",
      "source": [
        "# URL of the articles\n",
        "print(articles_df['url'].head(5))\n",
        "print(articles_df['url'].isnull().sum(axis=0))"
      ],
      "metadata": {
        "colab": {
          "base_uri": "https://localhost:8080/"
        },
        "id": "wxEr2kO7WcYH",
        "outputId": "74aac398-568b-40bf-9124-1444e2f63ad4"
      },
      "execution_count": null,
      "outputs": [
        {
          "output_type": "stream",
          "name": "stdout",
          "text": [
            "1    http://www.nytimes.com/2016/03/28/business/dea...\n",
            "2    http://cointelegraph.com/news/bitcoin-future-w...\n",
            "3    https://cloudplatform.googleblog.com/2016/03/G...\n",
            "4    https://bitcoinmagazine.com/articles/ibm-wants...\n",
            "5    http://www.coindesk.com/ieee-blockchain-oxford...\n",
            "Name: url, dtype: object\n",
            "0\n"
          ]
        }
      ]
    },
    {
      "cell_type": "code",
      "source": [
        "# Title/headline of the articles\n",
        "print(articles_df['title'].head(5))\n",
        "print(articles_df['title'].isnull().sum(axis=0))"
      ],
      "metadata": {
        "colab": {
          "base_uri": "https://localhost:8080/"
        },
        "id": "LY1rlNZtWf10",
        "outputId": "153a181b-4cdb-4925-d6cc-cabe92ec8a5b"
      },
      "execution_count": null,
      "outputs": [
        {
          "output_type": "stream",
          "name": "stdout",
          "text": [
            "1    Ethereum, a Virtual Currency, Enables Transact...\n",
            "2    Bitcoin Future: When GBPcoin of Branson Wins O...\n",
            "3                         Google Data Center 360° Tour\n",
            "4    IBM Wants to \"Evolve the Internet\" With Blockc...\n",
            "5    IEEE to Talk Blockchain at Cloud Computing Oxf...\n",
            "Name: title, dtype: object\n",
            "0\n"
          ]
        }
      ]
    },
    {
      "cell_type": "code",
      "source": [
        "# Content of the articles.\n",
        "print(articles_df['text'].head(5))\n",
        "print(articles_df['text'].isnull().sum(axis=0))"
      ],
      "metadata": {
        "colab": {
          "base_uri": "https://localhost:8080/"
        },
        "id": "svdo4TcGWi_g",
        "outputId": "33c39976-b7df-4669-acc2-47018f9cffa7"
      },
      "execution_count": null,
      "outputs": [
        {
          "output_type": "stream",
          "name": "stdout",
          "text": [
            "1    All of this work is still very early. The firs...\n",
            "2    The alarm clock wakes me at 8:00 with stream o...\n",
            "3    We're excited to share the Google Data Center ...\n",
            "4    The Aite Group projects the blockchain market ...\n",
            "5    One of the largest and oldest organizations fo...\n",
            "Name: text, dtype: object\n",
            "0\n"
          ]
        }
      ]
    },
    {
      "cell_type": "code",
      "source": [
        "# language in which the article is written.\n",
        "print(articles_df['lang'].unique())\n",
        "print(articles_df['lang'].isnull().sum(axis=0))"
      ],
      "metadata": {
        "colab": {
          "base_uri": "https://localhost:8080/"
        },
        "id": "zPWggcaPW1Cw",
        "outputId": "9218f991-2c50-42ff-a42d-cdc751981913"
      },
      "execution_count": null,
      "outputs": [
        {
          "output_type": "stream",
          "name": "stdout",
          "text": [
            "['en' 'pt' 'es' 'la' 'ja']\n",
            "0\n"
          ]
        }
      ]
    },
    {
      "cell_type": "code",
      "source": [
        "#  restrict the language to English.\n",
        "articles_df = articles_df[articles_df['lang'] == 'en']\n",
        "print(articles_df.shape)"
      ],
      "metadata": {
        "colab": {
          "base_uri": "https://localhost:8080/"
        },
        "id": "Bhk88a-cW2aN",
        "outputId": "1444cdfa-e9c1-4a33-fcfb-0462cd1c75c7"
      },
      "execution_count": null,
      "outputs": [
        {
          "output_type": "stream",
          "name": "stdout",
          "text": [
            "(2211, 13)\n"
          ]
        }
      ]
    },
    {
      "cell_type": "code",
      "source": [
        "# create a dataframe using the pandas library.\n",
        "articles_df = pd.DataFrame(articles_df, columns=['contentId', 'authorPersonId', 'content', 'title', 'text'])"
      ],
      "metadata": {
        "id": "q3EN9FJGW-DJ"
      },
      "execution_count": null,
      "outputs": []
    },
    {
      "cell_type": "code",
      "source": [
        "# Define a TF-IDF Vectorizer Object. Remove all english stop words such as 'the', 'a'\n",
        "tfidf = TfidfVectorizer(stop_words='english')\n",
        "\n",
        "# Construct the required TF-IDF matrix by fitting and transforming the data\n",
        "tfidf_matrix = tfidf.fit_transform(articles_df['text'])"
      ],
      "metadata": {
        "id": "QfHLKuFuLFh5"
      },
      "execution_count": null,
      "outputs": []
    },
    {
      "cell_type": "code",
      "source": [
        "# Output the shape of tfidf_matrix\n",
        "print(tfidf_matrix.shape)\n",
        "# print(tfidf.get_stop_words().pop())\n",
        "\n",
        "# Array mapping from feature integer indices to feature name.\n",
        "print(tfidf.get_feature_names()[5000:5010])"
      ],
      "metadata": {
        "colab": {
          "base_uri": "https://localhost:8080/"
        },
        "id": "vYLUdTi_LckU",
        "outputId": "26617582-9c09-4cb7-f67d-eb085689481d"
      },
      "execution_count": null,
      "outputs": [
        {
          "output_type": "stream",
          "name": "stdout",
          "text": [
            "(2211, 45496)\n",
            "['banter', 'baptista', 'baptiste', 'baptized', 'bar', 'barack', 'barani', 'baratheon', 'barauskas', 'barb']\n"
          ]
        },
        {
          "output_type": "stream",
          "name": "stderr",
          "text": [
            "/usr/local/lib/python3.7/dist-packages/sklearn/utils/deprecation.py:87: FutureWarning: Function get_feature_names is deprecated; get_feature_names is deprecated in 1.0 and will be removed in 1.2. Please use get_feature_names_out instead.\n",
            "  warnings.warn(msg, category=FutureWarning)\n"
          ]
        }
      ]
    },
    {
      "cell_type": "code",
      "source": [
        "# use the cosine_similarity() function of the sklearn library.\n",
        "cosine_sim = cosine_similarity(tfidf_matrix, tfidf_matrix, True)\n",
        "display(cosine_sim.shape)\n",
        "display(cosine_sim)"
      ],
      "metadata": {
        "colab": {
          "base_uri": "https://localhost:8080/",
          "height": 260
        },
        "id": "1pqBupMOL-gU",
        "outputId": "15137889-4a26-4ac6-c60e-f455039adcd8"
      },
      "execution_count": null,
      "outputs": [
        {
          "output_type": "display_data",
          "data": {
            "text/plain": [
              "(2211, 2211)"
            ]
          },
          "metadata": {}
        },
        {
          "output_type": "display_data",
          "data": {
            "text/plain": [
              "array([[1.        , 0.02842053, 0.01414884, ..., 0.04717028, 0.08436331,\n",
              "        0.01859574],\n",
              "       [0.02842053, 1.        , 0.02096081, ..., 0.0256655 , 0.03187741,\n",
              "        0.01120014],\n",
              "       [0.01414884, 0.02096081, 1.        , ..., 0.02092281, 0.04240744,\n",
              "        0.        ],\n",
              "       ...,\n",
              "       [0.04717028, 0.0256655 , 0.02092281, ..., 1.        , 0.05457163,\n",
              "        0.07645089],\n",
              "       [0.08436331, 0.03187741, 0.04240744, ..., 0.05457163, 1.        ,\n",
              "        0.03965418],\n",
              "       [0.01859574, 0.01120014, 0.        , ..., 0.07645089, 0.03965418,\n",
              "        1.        ]])"
            ]
          },
          "metadata": {}
        }
      ]
    },
    {
      "cell_type": "code",
      "source": [
        "# Reset index of main DataFrame and construct reverse mapping as before\n",
        "metadata = articles_df.reset_index()\n",
        "indices = pd.Series(metadata.index, index=metadata['title']).drop_duplicates()\n",
        "display(indices[:10])"
      ],
      "metadata": {
        "colab": {
          "base_uri": "https://localhost:8080/",
          "height": 226
        },
        "id": "0WAAbUKCMCL7",
        "outputId": "5990aca4-5879-4aef-b568-eb0c2635f106"
      },
      "execution_count": null,
      "outputs": [
        {
          "output_type": "display_data",
          "data": {
            "text/plain": [
              "title\n",
              "Ethereum, a Virtual Currency, Enables Transactions That Rival Bitcoin's                                          0\n",
              "Bitcoin Future: When GBPcoin of Branson Wins Over USDcoin of Trump                                               1\n",
              "Google Data Center 360° Tour                                                                                     2\n",
              "IBM Wants to \"Evolve the Internet\" With Blockchain Technology                                                    3\n",
              "IEEE to Talk Blockchain at Cloud Computing Oxford-Con - CoinDesk                                                 4\n",
              "Banks Need To Collaborate With Bitcoin and Fintech Developers                                                    5\n",
              "Blockchain Technology Could Put Bank Auditors Out of Work                                                        6\n",
              "Why Decentralized Conglomerates Will Scale Better than Bitcoin - Interview with OpenLedger CEO - Bitcoin News    7\n",
              "The Rise And Growth of Ethereum Gets Mainstream Coverage                                                         8\n",
              "Setting Up HTTP(S) Load Balancing                                                                                9\n",
              "dtype: int64"
            ]
          },
          "metadata": {}
        }
      ]
    },
    {
      "cell_type": "code",
      "source": [
        "# Function that takes in article title as input and outputs most similar articles\n",
        "\n",
        "# it finds the index of the input title. Since we have to remove it later, it\n",
        "# iterates over the length of the cosine similarity matrix and checks for the \n",
        "# distance of the articles from the input article we passed.\n",
        "\n",
        "\n",
        "def get_recommendations(title, indices, cosine_sim, data):\n",
        "    # Get the index of the article that matches the title\n",
        "    idx = indices[title]\n",
        "\n",
        "    # Get the pairwsie similarity scores of all articles with that article\n",
        "    sim_scores = list(enumerate(cosine_sim[idx]))\n",
        "\n",
        "    # Sort the articles based on the similarity scores\n",
        "    sim_scores = sorted(sim_scores, key=lambda x: x[1], reverse=True)\n",
        "\n",
        "    # Get the scores of the 10 most similar movies\n",
        "    sim_scores = sim_scores[1:11]\n",
        "\n",
        "    # Get the article indices\n",
        "    movie_indices = [i[0] for i in sim_scores]\n",
        "\n",
        "    # Return the top 10 most similar articles\n",
        "    return data['title'].iloc[movie_indices]"
      ],
      "metadata": {
        "id": "WALICcyQMJ5v"
      },
      "execution_count": null,
      "outputs": []
    },
    {
      "cell_type": "code",
      "source": [
        "# Printing the given recomendaions\n",
        "print(get_recommendations('Blockchain Technology Could Put Bank Auditors Out of Work', indices, cosine_sim\n",
        "                            , metadata))"
      ],
      "metadata": {
        "colab": {
          "base_uri": "https://localhost:8080/"
        },
        "id": "DPtoIFBuMQwT",
        "outputId": "7e5653ce-c404-4a9f-f303-4a79d62d5d82"
      },
      "execution_count": null,
      "outputs": [
        {
          "output_type": "stream",
          "name": "stdout",
          "text": [
            "727                      The Blockchain is the new Google\n",
            "730      Confused by blockchains? Revolution vs Evolution\n",
            "1671    Banks find blockchain hard to put into practic...\n",
            "1701    Are you a bitcoin denialist? - Chris Skinner's...\n",
            "766     Smart Managers Don't Compare People to the \"Av...\n",
            "2140    4 Blockchain Macro Trends: Where to Place Your...\n",
            "1758    Blockchain Will Be Used By 15% of Big Banks By...\n",
            "17      From fine wine to lotteries: Blockchain tech t...\n",
            "307          Blockchain won't kill banks: Bitcoin pioneer\n",
            "154     Venture Capitalists Inject Nearly Half a Billi...\n",
            "Name: title, dtype: object\n"
          ]
        }
      ]
    }
  ]
}